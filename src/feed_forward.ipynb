{
 "cells": [
  {
   "cell_type": "code",
   "execution_count": null,
   "outputs": [],
   "source": [
    "!pip install pandas seaborn matplotlib scikit-learn gensim eli5 tiktoken spacy gensim"
   ],
   "metadata": {
    "collapsed": false
   }
  },
  {
   "cell_type": "markdown",
   "source": [
    "## Load Data"
   ],
   "metadata": {
    "collapsed": false
   }
  },
  {
   "cell_type": "code",
   "execution_count": null,
   "outputs": [],
   "source": [
    "import preprocessing.preprocessing as pp\n",
    "import numpy as np"
   ],
   "metadata": {
    "collapsed": false
   }
  },
  {
   "cell_type": "code",
   "execution_count": null,
   "outputs": [],
   "source": [
    "df = pp.load_data(\"english_cleaned_lyrics.csv\")"
   ],
   "metadata": {
    "collapsed": false
   }
  },
  {
   "cell_type": "markdown",
   "source": [
    "## Preprocess: Choose Preprocessing"
   ],
   "metadata": {
    "collapsed": false
   }
  },
  {
   "cell_type": "markdown",
   "source": [
    "### Remove only punctuation and lower cases"
   ],
   "metadata": {
    "collapsed": false
   }
  },
  {
   "cell_type": "code",
   "execution_count": null,
   "outputs": [],
   "source": [
    "df = pp.preprocess_data(df, to_lower=True, remove_punct=True, remove_stops=False, lemmatize=False)"
   ],
   "metadata": {
    "collapsed": false
   }
  },
  {
   "cell_type": "markdown",
   "source": [
    "### Remove Stop Words"
   ],
   "metadata": {
    "collapsed": false
   }
  },
  {
   "cell_type": "code",
   "execution_count": null,
   "outputs": [],
   "source": [
    "df = pp.preprocess_data(df, to_lower=True, remove_punct=True, remove_stops=True, lemmatize=False)"
   ],
   "metadata": {
    "collapsed": false
   }
  },
  {
   "cell_type": "markdown",
   "source": [
    "### Remove stop words and lemmatization"
   ],
   "metadata": {
    "collapsed": false
   }
  },
  {
   "cell_type": "code",
   "execution_count": null,
   "outputs": [],
   "source": [
    "df = pp.preprocess_data(df, to_lower=True, remove_punct=True, remove_stops=True, lemmatize=True)"
   ],
   "metadata": {
    "collapsed": false
   }
  },
  {
   "cell_type": "markdown",
   "source": [
    "### Adjust distribution"
   ],
   "metadata": {
    "collapsed": false
   }
  },
  {
   "cell_type": "code",
   "execution_count": null,
   "outputs": [],
   "source": [
    "df = pp.adjust_genre_distribution(df)"
   ],
   "metadata": {
    "collapsed": false
   }
  },
  {
   "cell_type": "code",
   "execution_count": null,
   "outputs": [],
   "source": [
    "df = df[['lyrics', 'genre']]"
   ],
   "metadata": {
    "collapsed": false
   }
  },
  {
   "cell_type": "code",
   "execution_count": null,
   "outputs": [],
   "source": [
    "X = df['lyrics']\n",
    "y = df['genre']"
   ],
   "metadata": {
    "collapsed": false
   }
  },
  {
   "cell_type": "code",
   "execution_count": null,
   "outputs": [],
   "source": [
    "import torch"
   ],
   "metadata": {
    "collapsed": false
   }
  },
  {
   "cell_type": "markdown",
   "source": [
    "## Embedding"
   ],
   "metadata": {
    "collapsed": false
   }
  },
  {
   "cell_type": "code",
   "execution_count": null,
   "outputs": [],
   "source": [
    "from gensim.models import KeyedVectors\n",
    "from nltk import word_tokenize         "
   ],
   "metadata": {
    "collapsed": false
   }
  },
  {
   "cell_type": "markdown",
   "source": [
    "### Pretrained Word2Vec"
   ],
   "metadata": {
    "collapsed": false
   }
  },
  {
   "cell_type": "code",
   "execution_count": null,
   "outputs": [],
   "source": [
    "import gensim.downloader\n",
    "pretrained_wv = gensim.downloader.load('glove-twitter-100')"
   ],
   "metadata": {
    "collapsed": false
   }
  },
  {
   "cell_type": "markdown",
   "source": [
    "### Custom Word2Vec"
   ],
   "metadata": {
    "collapsed": false
   }
  },
  {
   "cell_type": "code",
   "execution_count": null,
   "outputs": [],
   "source": [
    "wv = KeyedVectors.load(\"word2vec.wordvectors\", mmap='r')\n",
    "def document_vector(doc, wv):\n",
    "    \"\"\"Create document vectors by averaging word vectors.\"\"\"\n",
    "    words = word_tokenize(doc)\n",
    "    word_vectors = np.array([wv[word] for word in words if word in wv])\n",
    "    \n",
    "    if len(word_vectors) == 0:\n",
    "        return np.zeros(wv.vector_size)\n",
    "    return np.mean(word_vectors, axis=0)"
   ],
   "metadata": {
    "collapsed": false
   }
  },
  {
   "cell_type": "markdown",
   "source": [
    "## Training and test sets using Word2Vec"
   ],
   "metadata": {
    "collapsed": false
   }
  },
  {
   "cell_type": "code",
   "execution_count": null,
   "outputs": [],
   "source": [
    "from sklearn.utils.class_weight import compute_sample_weight\n",
    "from sklearn.model_selection import train_test_split\n",
    "from sklearn.preprocessing import LabelEncoder"
   ],
   "metadata": {
    "collapsed": false
   }
  },
  {
   "cell_type": "markdown",
   "source": [
    "### Pretrained"
   ],
   "metadata": {
    "collapsed": false
   }
  },
  {
   "cell_type": "code",
   "execution_count": null,
   "outputs": [],
   "source": [
    "X_emb = np.array([document_vector(text, pretrained_wv) for text in X])"
   ],
   "metadata": {
    "collapsed": false
   }
  },
  {
   "cell_type": "markdown",
   "source": [
    "### Custom"
   ],
   "metadata": {
    "collapsed": false
   }
  },
  {
   "cell_type": "code",
   "execution_count": 202,
   "outputs": [],
   "source": [
    "X_emb = np.array([document_vector(text, wv) for text in X])"
   ],
   "metadata": {
    "collapsed": false,
    "ExecuteTime": {
     "end_time": "2024-05-20T16:07:34.914622400Z",
     "start_time": "2024-05-20T16:06:04.001327400Z"
    }
   }
  },
  {
   "cell_type": "code",
   "execution_count": 203,
   "outputs": [
    {
     "name": "stdout",
     "output_type": "stream",
     "text": [
      "Features dimension: torch.Size([117148, 50])\n",
      "Features dimension: torch.Size([117148])\n"
     ]
    }
   ],
   "source": [
    "label_encoder = LabelEncoder()\n",
    "classes = np.array(y.values)\n",
    "integer_encoded = label_encoder.fit_transform(classes)\n",
    "\n",
    "# Convert to PyTorch tensors\n",
    "y_tensor = torch.tensor(integer_encoded, dtype=torch.long)\n",
    "X_tensor = torch.tensor(X_emb, dtype=torch.float32)\n",
    "\n",
    "X_train, X_test, y_train, y_test = train_test_split(X_tensor, y_tensor, test_size=0.2, random_state=42)\n",
    "sample_weights = compute_sample_weight(class_weight='balanced', y=y_train)\n",
    "\n",
    "print(f\"Features dimension: {X_train.shape}\")\n",
    "print(f\"Features dimension: {y_train.shape}\")"
   ],
   "metadata": {
    "collapsed": false,
    "ExecuteTime": {
     "end_time": "2024-05-20T16:07:48.772970600Z",
     "start_time": "2024-05-20T16:07:48.671266300Z"
    }
   }
  },
  {
   "cell_type": "markdown",
   "source": [
    "### DataLoader"
   ],
   "metadata": {
    "collapsed": false
   }
  },
  {
   "cell_type": "code",
   "execution_count": 204,
   "outputs": [],
   "source": [
    "import torch\n",
    "from torch.utils.data import TensorDataset, DataLoader\n",
    "\n",
    "# Create TensorDataset objects\n",
    "train_dataset = TensorDataset(X_train, y_train)\n",
    "test_dataset = TensorDataset(X_test, y_test)\n",
    "\n",
    "# Create DataLoader objects\n",
    "batch_size = 64\n",
    "train_loader = DataLoader(dataset=train_dataset, batch_size=batch_size, shuffle=True)\n",
    "test_loader = DataLoader(dataset=test_dataset, batch_size=batch_size, shuffle=False)"
   ],
   "metadata": {
    "collapsed": false,
    "ExecuteTime": {
     "end_time": "2024-05-20T16:07:56.577209400Z",
     "start_time": "2024-05-20T16:07:56.556806200Z"
    }
   }
  },
  {
   "cell_type": "markdown",
   "source": [],
   "metadata": {
    "collapsed": false
   }
  },
  {
   "cell_type": "markdown",
   "source": [
    "### Feed Forward neural network"
   ],
   "metadata": {
    "collapsed": false
   }
  },
  {
   "cell_type": "code",
   "execution_count": 205,
   "outputs": [],
   "source": [
    "#!pip install torch\n",
    "import torch.nn as nn\n",
    "import torch.optim as optim\n",
    "from sklearn.metrics import precision_score, recall_score, f1_score\n",
    "import torch.nn.functional as F"
   ],
   "metadata": {
    "collapsed": false,
    "ExecuteTime": {
     "end_time": "2024-05-20T16:07:58.987356100Z",
     "start_time": "2024-05-20T16:07:58.967096300Z"
    }
   }
  },
  {
   "cell_type": "markdown",
   "source": [
    "### Simple Model"
   ],
   "metadata": {
    "collapsed": false
   }
  },
  {
   "cell_type": "code",
   "execution_count": 206,
   "outputs": [],
   "source": [
    "class MultiLayerPerceptron(nn.Module):\n",
    "    def __init__(self, vocab_size, hidden_dim, num_classes):\n",
    "        super(MultiLayerPerceptron, self).__init__()\n",
    "        self.fc1 = nn.Linear(vocab_size, hidden_dim)\n",
    "        self.fc2 = nn.Linear(hidden_dim, num_classes)\n",
    "    \n",
    "    def forward(self, x):\n",
    "        x = F.relu(self.fc1(x))\n",
    "        return self.fc2(x)"
   ],
   "metadata": {
    "collapsed": false,
    "ExecuteTime": {
     "end_time": "2024-05-20T16:08:01.477941600Z",
     "start_time": "2024-05-20T16:08:01.469422400Z"
    }
   }
  },
  {
   "cell_type": "markdown",
   "source": [
    "### More Complex Model"
   ],
   "metadata": {
    "collapsed": false
   }
  },
  {
   "cell_type": "code",
   "execution_count": 207,
   "outputs": [],
   "source": [
    "class MultiLayerPerceptronComplex(nn.Module):\n",
    "    def __init__(self, vocab_size, num_class, hidden_size1, hidden_size2, hidden_size3):\n",
    "        super(MultiLayerPerceptronComplex, self).__init__()\n",
    "        self.activation = nn.ReLU()\n",
    "        self.fc1 = nn.Linear(vocab_size, hidden_size1)  # dense layer\n",
    "        self.fc2 = nn.Linear(hidden_size1, hidden_size2)  # dense layer\n",
    "        self.fc3 = nn.Linear(hidden_size2, hidden_size3)  # dense layer\n",
    "        self.fc4 = nn.Linear(hidden_size3, num_class)  # dense layer\n",
    "        self.init_weights()\n",
    "\n",
    "    def init_weights(self):\n",
    "        initrange = 0.5\n",
    "        self.fc1.weight.data.uniform_(-initrange, initrange)\n",
    "        self.fc1.bias.data.zero_()\n",
    "        self.fc2.weight.data.uniform_(-initrange, initrange)\n",
    "        self.fc2.bias.data.zero_()\n",
    "        self.fc3.weight.data.uniform_(-initrange, initrange)\n",
    "        self.fc3.bias.data.zero_()\n",
    "        self.fc4.weight.data.uniform_(-initrange, initrange)\n",
    "        self.fc4.bias.data.zero_()\n",
    "\n",
    "\n",
    "    def forward(self, text):\n",
    "        h1 = self.fc1(text)\n",
    "        a1 = self.activation(h1)\n",
    "        h2 = self.fc2(a1)\n",
    "        a2 = self.activation(h2)\n",
    "        h3 = self.fc3(a2)\n",
    "        a3 = self.activation(h3)\n",
    "        h4 = self.fc4(a3)\n",
    "        return h4"
   ],
   "metadata": {
    "collapsed": false,
    "ExecuteTime": {
     "end_time": "2024-05-20T16:08:02.905345900Z",
     "start_time": "2024-05-20T16:08:02.888474100Z"
    }
   }
  },
  {
   "cell_type": "markdown",
   "source": [
    "### Training simple Model"
   ],
   "metadata": {
    "collapsed": false
   }
  },
  {
   "cell_type": "code",
   "execution_count": 208,
   "outputs": [
    {
     "name": "stdout",
     "output_type": "stream",
     "text": [
      "MultiLayerPerceptron(\n",
      "  (fc1): Linear(in_features=50, out_features=10, bias=True)\n",
      "  (fc2): Linear(in_features=10, out_features=6, bias=True)\n",
      ")\n",
      "Epoch [1/20], Loss: 1.6571\n",
      "Precision: 0.5201, Recall: 0.5031, F1 Score: 0.4991\n",
      "Epoch [2/20], Loss: 1.4035\n",
      "Precision: 0.5296, Recall: 0.5108, F1 Score: 0.5139\n",
      "Epoch [3/20], Loss: 0.8532\n",
      "Precision: 0.5441, Recall: 0.5138, F1 Score: 0.5128\n",
      "Epoch [4/20], Loss: 1.2281\n",
      "Precision: 0.5398, Recall: 0.5153, F1 Score: 0.5172\n",
      "Epoch [5/20], Loss: 1.4502\n",
      "Precision: 0.5412, Recall: 0.5146, F1 Score: 0.5117\n",
      "Epoch [6/20], Loss: 1.0607\n",
      "Precision: 0.5347, Recall: 0.5139, F1 Score: 0.5072\n",
      "Epoch [7/20], Loss: 1.2621\n",
      "Precision: 0.5440, Recall: 0.5112, F1 Score: 0.5130\n",
      "Epoch [8/20], Loss: 1.2715\n",
      "Precision: 0.5383, Recall: 0.5156, F1 Score: 0.5128\n",
      "Epoch [9/20], Loss: 1.2384\n",
      "Precision: 0.5260, Recall: 0.5119, F1 Score: 0.5107\n",
      "Epoch [10/20], Loss: 1.3968\n",
      "Precision: 0.5333, Recall: 0.5109, F1 Score: 0.5126\n",
      "Epoch [11/20], Loss: 1.5217\n",
      "Precision: 0.5340, Recall: 0.5143, F1 Score: 0.5105\n",
      "Epoch [12/20], Loss: 1.1928\n",
      "Precision: 0.5298, Recall: 0.5144, F1 Score: 0.5145\n",
      "Epoch [13/20], Loss: 1.0406\n",
      "Precision: 0.5336, Recall: 0.5166, F1 Score: 0.5130\n",
      "Epoch [14/20], Loss: 1.0648\n",
      "Precision: 0.5419, Recall: 0.5159, F1 Score: 0.5170\n",
      "Epoch [15/20], Loss: 1.2068\n",
      "Precision: 0.5476, Recall: 0.5145, F1 Score: 0.5111\n",
      "Epoch [16/20], Loss: 1.1768\n",
      "Precision: 0.5466, Recall: 0.5159, F1 Score: 0.5163\n",
      "Epoch [17/20], Loss: 1.6327\n",
      "Precision: 0.5318, Recall: 0.5165, F1 Score: 0.5133\n",
      "Epoch [18/20], Loss: 1.1162\n",
      "Precision: 0.5370, Recall: 0.5164, F1 Score: 0.5185\n",
      "Epoch [19/20], Loss: 1.2210\n",
      "Precision: 0.5231, Recall: 0.5141, F1 Score: 0.5105\n",
      "Epoch [20/20], Loss: 1.3154\n",
      "Precision: 0.5379, Recall: 0.5108, F1 Score: 0.5095\n"
     ]
    }
   ],
   "source": [
    "num_epochs = 20\n",
    "vocab_size = X_tensor.shape[1]\n",
    "num_classes = len(set(y.values))\n",
    "\n",
    "model = MultiLayerPerceptron(vocab_size, 10, num_classes)\n",
    "print(model)\n",
    "\n",
    "# Loss and optimizer\n",
    "criterion = nn.CrossEntropyLoss()\n",
    "optimizer = optim.Adam(model.parameters(), lr=0.005)\n",
    "\n",
    "for epoch in range(num_epochs):\n",
    "    for inputs, labels in train_loader:\n",
    "        inputs = inputs.float()\n",
    "        labels = labels.long()\n",
    "        \n",
    "        # Forward pass\n",
    "        outputs = model(inputs)\n",
    "        loss = criterion(outputs, labels)\n",
    "        \n",
    "        # Backward and optimize\n",
    "        optimizer.zero_grad()\n",
    "        loss.backward()\n",
    "        optimizer.step()\n",
    "    \n",
    "    print(f'Epoch [{epoch+1}/{num_epochs}], Loss: {loss.item():.4f}')\n",
    "\n",
    "    model.eval()\n",
    "    correct = 0\n",
    "    total = 0\n",
    "    all_labels = []\n",
    "    all_predictions = []\n",
    "    \n",
    "    with torch.no_grad():\n",
    "        for inputs, labels in test_loader:\n",
    "            outputs = model(inputs)\n",
    "            _, predicted = torch.max(outputs.data, 1)\n",
    "            all_labels.extend(labels)\n",
    "            all_predictions.extend(predicted)\n",
    "\n",
    "    precision = precision_score(all_labels, all_predictions, average='weighted', zero_division=0)\n",
    "    recall = recall_score(all_labels, all_predictions, average='weighted')\n",
    "    f1 = f1_score(all_labels, all_predictions, average='weighted')\n",
    "    \n",
    "    print(f'Precision: {precision:.4f}, Recall: {recall:.4f}, F1 Score: {f1:.4f}')"
   ],
   "metadata": {
    "collapsed": false,
    "ExecuteTime": {
     "end_time": "2024-05-20T16:11:40.847222300Z",
     "start_time": "2024-05-20T16:08:04.470822700Z"
    }
   }
  },
  {
   "cell_type": "code",
   "execution_count": 209,
   "outputs": [],
   "source": [
    "from sklearn.metrics import classification_report, accuracy_score, ConfusionMatrixDisplay, confusion_matrix\n",
    "import matplotlib.pyplot as plt"
   ],
   "metadata": {
    "collapsed": false,
    "ExecuteTime": {
     "end_time": "2024-05-20T16:11:40.857826100Z",
     "start_time": "2024-05-20T16:11:40.849217600Z"
    }
   }
  },
  {
   "cell_type": "code",
   "execution_count": 210,
   "outputs": [
    {
     "name": "stdout",
     "output_type": "stream",
     "text": [
      "              precision    recall  f1-score   support\n",
      "\n",
      "           0       0.41      0.34      0.37      3110\n",
      "           1       0.51      0.11      0.18      1504\n",
      "           2       0.74      0.62      0.67      4239\n",
      "           3       0.45      0.42      0.43      6747\n",
      "           4       0.73      0.61      0.66      6689\n",
      "           5       0.39      0.60      0.47      6999\n",
      "\n",
      "    accuracy                           0.51     29288\n",
      "   macro avg       0.54      0.45      0.46     29288\n",
      "weighted avg       0.54      0.51      0.51     29288\n"
     ]
    }
   ],
   "source": [
    "print(classification_report(all_labels, all_predictions))"
   ],
   "metadata": {
    "collapsed": false,
    "ExecuteTime": {
     "end_time": "2024-05-20T16:11:41.741743300Z",
     "start_time": "2024-05-20T16:11:40.853799900Z"
    }
   }
  },
  {
   "cell_type": "code",
   "execution_count": 211,
   "outputs": [
    {
     "data": {
      "text/plain": "<Figure size 640x480 with 2 Axes>",
      "image/png": "[encoded data removed]"
     },
     "metadata": {},
     "output_type": "display_data"
    }
   ],
   "source": [
    "cm = confusion_matrix(all_labels, all_predictions)\n",
    "disp = ConfusionMatrixDisplay(confusion_matrix=cm, display_labels=label_encoder.classes_)\n",
    "disp.plot()\n",
    "plt.show()"
   ],
   "metadata": {
    "collapsed": false,
    "ExecuteTime": {
     "end_time": "2024-05-20T16:11:42.824168800Z",
     "start_time": "2024-05-20T16:11:41.748698700Z"
    }
   }
  },
  {
   "cell_type": "markdown",
   "source": [
    "### Training Complex model"
   ],
   "metadata": {
    "collapsed": false
   }
  },
  {
   "cell_type": "code",
   "execution_count": 212,
   "outputs": [
    {
     "name": "stdout",
     "output_type": "stream",
     "text": [
      "MultiLayerPerceptronComplex(\n",
      "  (activation): ReLU()\n",
      "  (fc1): Linear(in_features=50, out_features=64, bias=True)\n",
      "  (fc2): Linear(in_features=64, out_features=32, bias=True)\n",
      "  (fc3): Linear(in_features=32, out_features=16, bias=True)\n",
      "  (fc4): Linear(in_features=16, out_features=6, bias=True)\n",
      ")\n",
      "Epoch [1/20], Loss: 1.4676\n",
      "Precision: 0.5100, Recall: 0.5098, F1 Score: 0.5002\n",
      "Epoch [2/20], Loss: 1.4159\n",
      "Precision: 0.5439, Recall: 0.5110, F1 Score: 0.5067\n",
      "Epoch [3/20], Loss: 1.1838\n",
      "Precision: 0.5534, Recall: 0.5149, F1 Score: 0.5168\n",
      "Epoch [4/20], Loss: 1.5351\n",
      "Precision: 0.5487, Recall: 0.5172, F1 Score: 0.5173\n",
      "Epoch [5/20], Loss: 0.9694\n",
      "Precision: 0.5535, Recall: 0.5261, F1 Score: 0.5282\n",
      "Epoch [6/20], Loss: 1.1965\n",
      "Precision: 0.5506, Recall: 0.5240, F1 Score: 0.5225\n",
      "Epoch [7/20], Loss: 1.3112\n",
      "Precision: 0.5592, Recall: 0.5231, F1 Score: 0.5258\n",
      "Epoch [8/20], Loss: 1.4626\n",
      "Precision: 0.5612, Recall: 0.5227, F1 Score: 0.5256\n",
      "Epoch [9/20], Loss: 1.0071\n",
      "Precision: 0.5458, Recall: 0.5233, F1 Score: 0.5181\n",
      "Epoch [10/20], Loss: 1.0285\n",
      "Precision: 0.5567, Recall: 0.5262, F1 Score: 0.5279\n",
      "Epoch [11/20], Loss: 1.1867\n",
      "Precision: 0.5488, Recall: 0.5265, F1 Score: 0.5304\n",
      "Epoch [12/20], Loss: 0.9559\n",
      "Precision: 0.5446, Recall: 0.5216, F1 Score: 0.5242\n",
      "Epoch [13/20], Loss: 1.2437\n",
      "Precision: 0.5493, Recall: 0.5244, F1 Score: 0.5260\n",
      "Epoch [14/20], Loss: 1.1310\n",
      "Precision: 0.5491, Recall: 0.5267, F1 Score: 0.5278\n",
      "Epoch [15/20], Loss: 1.1354\n",
      "Precision: 0.5564, Recall: 0.5226, F1 Score: 0.5257\n",
      "Epoch [16/20], Loss: 1.0467\n",
      "Precision: 0.5461, Recall: 0.5299, F1 Score: 0.5301\n",
      "Epoch [17/20], Loss: 1.1071\n",
      "Precision: 0.5510, Recall: 0.5208, F1 Score: 0.5270\n",
      "Epoch [18/20], Loss: 1.0550\n",
      "Precision: 0.5351, Recall: 0.5267, F1 Score: 0.5281\n",
      "Epoch [19/20], Loss: 1.2596\n",
      "Precision: 0.5579, Recall: 0.5254, F1 Score: 0.5281\n",
      "Epoch [20/20], Loss: 1.0879\n",
      "Precision: 0.5486, Recall: 0.5244, F1 Score: 0.5272\n"
     ]
    }
   ],
   "source": [
    "num_epochs = 20\n",
    "vocab_size = X_tensor.shape[1]\n",
    "num_classes = len(set(y.values))\n",
    "\n",
    "model = MultiLayerPerceptronComplex(vocab_size, num_classes, 64, 32, 16)\n",
    "print(model)\n",
    "\n",
    "# Loss and optimizer\n",
    "criterion = nn.CrossEntropyLoss()\n",
    "optimizer = optim.Adam(model.parameters(), lr=0.005)\n",
    "\n",
    "for epoch in range(num_epochs):\n",
    "    all_labels = []\n",
    "    all_predictions = []\n",
    "    for inputs, labels in train_loader:\n",
    "        inputs = inputs.float()\n",
    "        labels = labels.long()\n",
    "        \n",
    "        # Forward pass\n",
    "        outputs = model(inputs)\n",
    "        loss = criterion(outputs, labels)\n",
    "        \n",
    "        # Backward and optimize\n",
    "        optimizer.zero_grad()\n",
    "        loss.backward()\n",
    "        nn.utils.clip_grad_norm_(model.parameters(), 1.0)\n",
    "        optimizer.step()\n",
    "    \n",
    "    print(f'Epoch [{epoch+1}/{num_epochs}], Loss: {loss.item():.4f}')\n",
    "\n",
    "    model.eval()\n",
    "    all_labels = []\n",
    "    all_predictions = []\n",
    "    with torch.no_grad():\n",
    "        for inputs, labels in test_loader:\n",
    "            outputs = model(inputs)\n",
    "            _, predicted = torch.max(outputs.data, 1)\n",
    "            all_labels.extend(labels)\n",
    "            all_predictions.extend(predicted)\n",
    "\n",
    "    precision = precision_score(all_labels, all_predictions, average='weighted', zero_division=0)\n",
    "    recall = recall_score(all_labels, all_predictions, average='weighted')\n",
    "    f1 = f1_score(all_labels, all_predictions, average='weighted')\n",
    "    \n",
    "    print(f'Precision: {precision:.4f}, Recall: {recall:.4f}, F1 Score: {f1:.4f}')"
   ],
   "metadata": {
    "collapsed": false,
    "ExecuteTime": {
     "end_time": "2024-05-20T16:17:06.498976800Z",
     "start_time": "2024-05-20T16:11:42.828173Z"
    }
   }
  },
  {
   "cell_type": "code",
   "execution_count": 213,
   "outputs": [
    {
     "name": "stdout",
     "output_type": "stream",
     "text": [
      "              precision    recall  f1-score   support\n",
      "\n",
      "           0       0.42      0.44      0.43      3110\n",
      "           1       0.43      0.19      0.27      1504\n",
      "           2       0.66      0.72      0.69      4239\n",
      "           3       0.45      0.46      0.46      6747\n",
      "           4       0.81      0.57      0.67      6689\n",
      "           5       0.41      0.53      0.46      6999\n",
      "\n",
      "    accuracy                           0.52     29288\n",
      "   macro avg       0.53      0.49      0.50     29288\n",
      "weighted avg       0.55      0.52      0.53     29288\n"
     ]
    }
   ],
   "source": [
    "print(classification_report(all_labels, all_predictions))"
   ],
   "metadata": {
    "collapsed": false,
    "ExecuteTime": {
     "end_time": "2024-05-20T16:17:07.372397500Z",
     "start_time": "2024-05-20T16:17:06.499968200Z"
    }
   }
  },
  {
   "cell_type": "code",
   "execution_count": 214,
   "outputs": [
    {
     "data": {
      "text/plain": "<Figure size 640x480 with 2 Axes>",
      "image/png": "[encoded data removed]"
     },
     "metadata": {},
     "output_type": "display_data"
    }
   ],
   "source": [
    "cm = confusion_matrix(all_labels, all_predictions)\n",
    "disp = ConfusionMatrixDisplay(confusion_matrix=cm, display_labels=label_encoder.classes_)\n",
    "disp.plot()\n",
    "plt.show()"
   ],
   "metadata": {
    "collapsed": false,
    "ExecuteTime": {
     "end_time": "2024-05-20T16:17:08.753889600Z",
     "start_time": "2024-05-20T16:17:07.378393900Z"
    }
   }
  }
 ],
 "metadata": {
  "kernelspec": {
   "display_name": "Python 3 (ipykernel)",
   "language": "python",
   "name": "python3"
  },
  "language_info": {
   "codemirror_mode": {
    "name": "ipython",
    "version": 3
   },
   "file_extension": ".py",
   "mimetype": "text/x-python",
   "name": "python",
   "nbconvert_exporter": "python",
   "pygments_lexer": "ipython3",
   "version": "3.10.12"
  }
 },
 "nbformat": 4,
 "nbformat_minor": 2
}
