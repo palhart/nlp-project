{
 "cells": [
  {
   "cell_type": "markdown",
   "metadata": {},
   "source": [
    "# Import librairies"
   ]
  },
  {
   "cell_type": "code",
   "execution_count": 12,
   "metadata": {},
   "outputs": [],
   "source": [
    "import pandas as pd\n",
    "import sklearn\n",
    "from collections import Counter, defaultdict\n",
    "import preprocessing.preprocessing as pp\n",
    "import math\n",
    "import random\n",
    "import re\n",
    "import numpy as np"
   ]
  },
  {
   "cell_type": "markdown",
   "metadata": {},
   "source": [
    "# Load datas"
   ]
  },
  {
   "cell_type": "code",
   "execution_count": 21,
   "metadata": {},
   "outputs": [
    {
     "name": "stdout",
     "output_type": "stream",
     "text": [
      "                                                   lyrics    genre\n",
      "0       Oh baby how you doing You know I'm gonna cut r...      Pop\n",
      "1       playin everything so easy it's like you seem s...      Pop\n",
      "2       If you search For tenderness It isn't hard to ...      Pop\n",
      "3       Oh oh oh I oh oh oh I If I wrote a book about ...      Pop\n",
      "4       Party the people the people the party it's pop...      Pop\n",
      "...                                                   ...      ...\n",
      "218205  I gotta say Boy after only just a couple of da...  Country\n",
      "218206  I helped you find her diamond ring You made me...  Country\n",
      "218207  Look at the couple in the corner booth Looks a...  Country\n",
      "218208  When I fly off this mortal earth And I'm measu...  Country\n",
      "218209  I heard from a friend of a friend of a friend ...  Country\n",
      "\n",
      "[218210 rows x 2 columns]\n"
     ]
    }
   ],
   "source": [
    "df = pp.load_data(\"english_cleaned_lyrics.csv\")\n",
    "# df = pp.preprocess_data(df)\n",
    "df = df[['lyrics', 'genre']]\n",
    "genres = df['genre'].unique()\n",
    "\n",
    "print(df)"
   ]
  },
  {
   "cell_type": "markdown",
   "metadata": {},
   "source": [
    "# Create 3-gram for each music genre"
   ]
  },
  {
   "cell_type": "code",
   "execution_count": 22,
   "metadata": {},
   "outputs": [],
   "source": [
    "def preprocess_text(text):\n",
    "    text = text.lower()\n",
    "    text = re.sub(r'[^\\w\\s]', '', text)\n",
    "    return text\n",
    "\n",
    "\n",
    "df['lyrics'] = df['lyrics'].apply(preprocess_text)\n",
    "\n",
    "def build_ngram_model(texts, n):\n",
    "    model = defaultdict(list)\n",
    "    for text in texts:\n",
    "        words = text.split()\n",
    "        for i in range(len(words) - n):\n",
    "            gram = tuple(words[i:i+n])\n",
    "            next_word = words[i+n]\n",
    "            model[gram].append(next_word)\n",
    "    return model\n",
    "\n",
    "\n",
    "\n",
    "ngram_size = 3\n",
    "genre_models = {}\n",
    "\n",
    "for genre in genres:\n",
    "    genre_lyrics = df[df['genre'] == genre]['lyrics']\n",
    "    genre_models[genre] = build_ngram_model(genre_lyrics, ngram_size)\n",
    "\n",
    "def generate_lyrics(model, n, num_words=50):\n",
    "    current_gram = random.choice(list(model.keys()))\n",
    "    result = list(current_gram)\n",
    "    for i in range(num_words - n):\n",
    "        possibilities = model[current_gram]\n",
    "        if not possibilities:\n",
    "            break\n",
    "        next_word = random.choice(possibilities)\n",
    "        result.append(next_word)\n",
    "        current_gram = tuple(result[-n:])\n",
    "    return ' '.join(result)\n"
   ]
  },
  {
   "cell_type": "markdown",
   "metadata": {},
   "source": [
    "# Example Pop"
   ]
  },
  {
   "cell_type": "code",
   "execution_count": 23,
   "metadata": {},
   "outputs": [
    {
     "name": "stdout",
     "output_type": "stream",
     "text": [
      "dead she knelt she cried and she cried overnight cause what she is after when you find the ones i loved is like leaving the one they hate just come with me i like what i want ill do anything to have you back again so until then send me the blues i was a fool playing by the rules by the rules got nothing left holding my holding my breath feel like im losing my heart i can make you feel em bring your troubles well see if we can play it thug get it up gotta get outta here no i dont love you baby cant do ay ay ay ay ay ay its my party and ill fuck who i want to breathe about but safe to say that anybodys keepin score but you gotta come to terms oh its another day another time and place oh baby dont you cry let me see you know who you are yea this is how well be able to define the colors that you see more than you ever dreamed possible dont be afraid to touch i want it now i know what it feels like the change that\n"
     ]
    }
   ],
   "source": [
    "genre_to_generate = 'Pop'\n",
    "new_lyrics = generate_lyrics(genre_models[genre_to_generate], ngram_size, 200)\n",
    "print(new_lyrics)"
   ]
  },
  {
   "cell_type": "markdown",
   "metadata": {},
   "source": [
    "# Example Country"
   ]
  },
  {
   "cell_type": "code",
   "execution_count": 27,
   "metadata": {},
   "outputs": [
    {
     "name": "stdout",
     "output_type": "stream",
     "text": [
      "for sinners such as i am or let me go dancing dancing ive seen life from both sides now from win and lose and still somehow its lifes illusions i recall i really dont know what it is and then one night as a time these tangled minds will all\n"
     ]
    }
   ],
   "source": [
    "genre_to_generate = 'Country'\n",
    "new_lyrics = generate_lyrics(genre_models[genre_to_generate], ngram_size)\n",
    "print(new_lyrics)"
   ]
  },
  {
   "cell_type": "markdown",
   "metadata": {},
   "source": [
    "# Example Rock"
   ]
  },
  {
   "cell_type": "code",
   "execution_count": 25,
   "metadata": {},
   "outputs": [
    {
     "name": "stdout",
     "output_type": "stream",
     "text": [
      "of those his head went back this far and now its all so cut and dried im all cut up sting like amphetamines and ready to rock in the storm there to ease the tension i got start it all over do it and i will never be alone and\n"
     ]
    }
   ],
   "source": [
    "genre_to_generate = 'Rock'\n",
    "new_lyrics = generate_lyrics(genre_models[genre_to_generate], ngram_size)\n",
    "print(new_lyrics)"
   ]
  },
  {
   "cell_type": "markdown",
   "metadata": {},
   "source": [
    "# Example Metal"
   ]
  },
  {
   "cell_type": "code",
   "execution_count": 26,
   "metadata": {},
   "outputs": [
    {
     "name": "stdout",
     "output_type": "stream",
     "text": [
      "at the evil that men do lives on and on burning the sky slumped like a headless scarecrow cold and limp against the wall stand up or die while theres still time cause soon its gone so pale and pure hear the stories of friends i never knew i could feel this way but its hard to ignore when your hand reaches out i abandon you begging for more tickling in their ears the fear is gone we seem to fill up the emptiness within the emptiness be gone oh yielding evidence of greed safe now in the heart of the mountain made of skulls of my enemies let the sea run red with the blood of the innocent denegrates humanitys existance when education and peaceful protest cant bring their liberation the strategy for their rescue changes into militant intervention every action has an impact every life saved is a victory were burning out were fading away a picture is all that remains is still only the pain as present to know the feeling the loss of memory oh my wintertime and a longing for the reason to live for look now who is she sleepin with its a story\n"
     ]
    }
   ],
   "source": [
    "genre_to_generate = 'Metal'\n",
    "new_lyrics = generate_lyrics(genre_models[genre_to_generate], ngram_size, 200)\n",
    "print(new_lyrics)"
   ]
  },
  {
   "cell_type": "markdown",
   "metadata": {},
   "source": [
    "# Having mean and std to generate accurate lyrics"
   ]
  },
  {
   "cell_type": "code",
   "execution_count": 19,
   "metadata": {},
   "outputs": [],
   "source": [
    "df['word_count'] = df['lyrics'].apply(lambda x: len(x.split()))\n",
    "genre_stats = df.groupby('genre')['word_count'].agg(['mean', 'std'])"
   ]
  },
  {
   "cell_type": "markdown",
   "metadata": {},
   "source": [
    "# Generate 1000 songs per genre"
   ]
  },
  {
   "cell_type": "code",
   "execution_count": 20,
   "metadata": {},
   "outputs": [],
   "source": [
    "num_lyrics_per_genre = 1000\n",
    "lyrics_data = []\n",
    "\n",
    "for genre, model in genre_models.items():\n",
    "    mean_word_count = genre_stats.loc[genre, 'mean']\n",
    "    std_word_count = genre_stats.loc[genre, 'std']\n",
    "    for _ in range(num_lyrics_per_genre):\n",
    "        num_words = max(int(np.random.normal(mean_word_count, std_word_count)), 1) \n",
    "        lyrics = generate_lyrics(model, ngram_size)\n",
    "        lyrics_data.append({'genre': genre, 'lyrics': lyrics, 'artist': f'n-gram {ngram_size}'})\n",
    "\n",
    "\n",
    "lyrics_df = pd.DataFrame(lyrics_data)\n",
    "lyrics_df.to_csv('generated_lyrics.csv', index=False)"
   ]
  }
 ],
 "metadata": {
  "kernelspec": {
   "display_name": "lectures",
   "language": "python",
   "name": "python3"
  },
  "language_info": {
   "codemirror_mode": {
    "name": "ipython",
    "version": 3
   },
   "file_extension": ".py",
   "mimetype": "text/x-python",
   "name": "python",
   "nbconvert_exporter": "python",
   "pygments_lexer": "ipython3",
   "version": "3.11.4"
  },
  "orig_nbformat": 4,
  "vscode": {
   "interpreter": {
    "hash": "258d6f942e9abff99338ee3ea05bb7abc0fd3eb4d49f988f84979247168b5568"
   }
  }
 },
 "nbformat": 4,
 "nbformat_minor": 2
}
