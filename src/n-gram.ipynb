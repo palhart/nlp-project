{
 "cells": [
  {
   "cell_type": "code",
   "execution_count": 2,
   "metadata": {},
   "outputs": [],
   "source": [
    "import pandas as pd\n",
    "import sklearn\n",
    "from collections import Counter, defaultdict\n",
    "import math\n",
    "import random\n",
    "import re\n",
    "import numpy as np"
   ]
  },
  {
   "cell_type": "code",
   "execution_count": 5,
   "metadata": {},
   "outputs": [
    {
     "name": "stdout",
     "output_type": "stream",
     "text": [
      "Index(['Unnamed: 0', 'index', 'song', 'year', 'artist', 'genre', 'lyrics'], dtype='object')\n",
      "<bound method NDFrame.head of         Unnamed: 0   index                         song  year  \\\n",
      "0                0       0                    ego-remix  2009   \n",
      "1                1       1                 then-tell-me  2009   \n",
      "2                2       2                      honesty  2009   \n",
      "3                3       3              you-are-my-rock  2009   \n",
      "4                4       4                black-culture  2009   \n",
      "...            ...     ...                          ...   ...   \n",
      "218205      362232  362232    who-am-i-drinking-tonight  2012   \n",
      "218206      362233  362233                         liar  2012   \n",
      "218207      362234  362234                  last-supper  2012   \n",
      "218208      362235  362235  christ-alone-live-in-studio  2012   \n",
      "218209      362236  362236                         amen  2012   \n",
      "\n",
      "                 artist    genre  \\\n",
      "0       beyonce-knowles      Pop   \n",
      "1       beyonce-knowles      Pop   \n",
      "2       beyonce-knowles      Pop   \n",
      "3       beyonce-knowles      Pop   \n",
      "4       beyonce-knowles      Pop   \n",
      "...                 ...      ...   \n",
      "218205       edens-edge  Country   \n",
      "218206       edens-edge  Country   \n",
      "218207       edens-edge  Country   \n",
      "218208       edens-edge  Country   \n",
      "218209       edens-edge  Country   \n",
      "\n",
      "                                                   lyrics  \n",
      "0       Oh baby how you doing You know I'm gonna cut r...  \n",
      "1       playin everything so easy it's like you seem s...  \n",
      "2       If you search For tenderness It isn't hard to ...  \n",
      "3       Oh oh oh I oh oh oh I If I wrote a book about ...  \n",
      "4       Party the people the people the party it's pop...  \n",
      "...                                                   ...  \n",
      "218205  I gotta say Boy after only just a couple of da...  \n",
      "218206  I helped you find her diamond ring You made me...  \n",
      "218207  Look at the couple in the corner booth Looks a...  \n",
      "218208  When I fly off this mortal earth And I'm measu...  \n",
      "218209  I heard from a friend of a friend of a friend ...  \n",
      "\n",
      "[218209 rows x 7 columns]>\n"
     ]
    }
   ],
   "source": [
    "df = pd.read_csv('data/english_cleaned_lyrics.csv')\n",
    "\n",
    "df = df.dropna()\n",
    "df = df.drop_duplicates()\n",
    "genres = df['genre'].unique()\n",
    "print(df.columns)\n",
    "print(df.head)"
   ]
  },
  {
   "cell_type": "code",
   "execution_count": 4,
   "metadata": {},
   "outputs": [
    {
     "data": {
      "text/plain": [
       "array(['Pop', 'Hip-Hop', 'Rock', 'Metal', 'Other', 'Country', 'Jazz',\n",
       "       'Electronic', 'Folk', 'R&B', 'Indie'], dtype=object)"
      ]
     },
     "execution_count": 4,
     "metadata": {},
     "output_type": "execute_result"
    }
   ],
   "source": [
    "df['genre'].unique()"
   ]
  },
  {
   "cell_type": "code",
   "execution_count": 10,
   "metadata": {},
   "outputs": [],
   "source": [
    "def preprocess_text(text):\n",
    "    \n",
    "    text = text.lower()\n",
    "    text = re.sub(r'[^\\w\\s]', '', text)\n",
    "    return text\n",
    "\n",
    "\n",
    "df['lyrics'] = df['lyrics'].apply(preprocess_text)\n",
    "\n",
    "def build_ngram_model(texts, n):\n",
    "    model = defaultdict(list)\n",
    "    for text in texts:\n",
    "        words = text.split()\n",
    "        for i in range(len(words) - n):\n",
    "            gram = tuple(words[i:i+n])\n",
    "            next_word = words[i+n]\n",
    "            model[gram].append(next_word)\n",
    "    return model\n",
    "\n",
    "\n",
    "\n",
    "ngram_size = 3\n",
    "genre_models = {}\n",
    "\n",
    "for genre in genres:\n",
    "    genre_lyrics = df[df['genre'] == genre]['lyrics']\n",
    "    genre_models[genre] = build_ngram_model(genre_lyrics, ngram_size)\n",
    "\n",
    "def generate_lyrics(model, n, num_words=50):\n",
    "    current_gram = random.choice(list(model.keys()))\n",
    "    result = list(current_gram)\n",
    "    for i in range(num_words - n):\n",
    "        possibilities = model[current_gram]\n",
    "        if not possibilities:\n",
    "            break\n",
    "        next_word = random.choice(possibilities)\n",
    "        result.append(next_word)\n",
    "        current_gram = tuple(result[-n:])\n",
    "    return ' '.join(result)\n"
   ]
  },
  {
   "cell_type": "code",
   "execution_count": 11,
   "metadata": {},
   "outputs": [
    {
     "name": "stdout",
     "output_type": "stream",
     "text": [
      "news for them ive got news for you who are you to keep a straight face and a brand new start you can laugh it off i can be your last day as a cocaine cowboy cowboy feat akon we the best dj khaled we global we the greatest lets go ayo joc got us akon konvict music this is survival used up and burnt out like an animal midnight coming for you tough im coming for you anyway so dont be blind to your game i feel some hesitation before we say goodnight take me in his arms dont even skip a beat wanna feel your body promise me the love that you dont like a big commotion im a demon for slow motion or such why should i care for you when i left your side but weve gotta go we got to keep the mystery to keep the home fires burning sure there are happy days and its not me talking you got me dizzy floating high up in the sky for the sacred in my winged water feathered river dirty rich soil strong and fertile the then shallow she earth as we know it lets really\n"
     ]
    }
   ],
   "source": [
    "genre_to_generate = 'Pop'\n",
    "new_lyrics = generate_lyrics(genre_models[genre_to_generate], ngram_size, 200)\n",
    "print(new_lyrics)"
   ]
  },
  {
   "cell_type": "code",
   "execution_count": 47,
   "metadata": {},
   "outputs": [
    {
     "name": "stdout",
     "output_type": "stream",
     "text": [
      "go told her i was just standin in line every heart has to do cause this feelin i keep feelin about you sue im gonna leave these blues behind for some other breed cause life aint about the money ill meet you in the eye where did you come from\n"
     ]
    }
   ],
   "source": [
    "genre_to_generate = 'Country'\n",
    "new_lyrics = generate_lyrics(genre_models[genre_to_generate], ngram_size)\n",
    "print(new_lyrics)"
   ]
  },
  {
   "cell_type": "code",
   "execution_count": 49,
   "metadata": {},
   "outputs": [
    {
     "name": "stdout",
     "output_type": "stream",
     "text": [
      "at his wife he says how and you say that you have ever done this is the sound of it another day in the same old dirt from up in heaven and you look like a woman like her can tease me with a feeling and she starts bawlin im\n"
     ]
    }
   ],
   "source": [
    "genre_to_generate = 'Rock'\n",
    "new_lyrics = generate_lyrics(genre_models[genre_to_generate], ngram_size)\n",
    "print(new_lyrics)"
   ]
  },
  {
   "cell_type": "code",
   "execution_count": 50,
   "metadata": {},
   "outputs": [
    {
     "name": "stdout",
     "output_type": "stream",
     "text": [
      "here to you i promise well start a little ponzi scheme whoaaaa oh oh lets take a 7 month staycation whoaaaa oh oh lets take a 7 month staycation whoaaaa oh oh now kiss me through my current occupation ill move these rocks trying to stack this cash on the\n"
     ]
    }
   ],
   "source": [
    "genre_to_generate = 'R&B'\n",
    "new_lyrics = generate_lyrics(genre_models[genre_to_generate], ngram_size)\n",
    "print(new_lyrics)"
   ]
  },
  {
   "cell_type": "code",
   "execution_count": 51,
   "metadata": {},
   "outputs": [
    {
     "name": "stdout",
     "output_type": "stream",
     "text": [
      "the way up to the skies but their attempts at love were only imitations of my old flame i cant even think of his name but its funny now and then it happened to me and although hes nothing in the end my tears give me away without you dear\n"
     ]
    }
   ],
   "source": [
    "genre_to_generate = 'Jazz'\n",
    "new_lyrics = generate_lyrics(genre_models[genre_to_generate], ngram_size)\n",
    "print(new_lyrics)"
   ]
  },
  {
   "cell_type": "code",
   "execution_count": 52,
   "metadata": {},
   "outputs": [
    {
     "name": "stdout",
     "output_type": "stream",
     "text": [
      "hand was only a fiction and my creation\n"
     ]
    }
   ],
   "source": [
    "genre_to_generate = 'Metal'\n",
    "new_lyrics = generate_lyrics(genre_models[genre_to_generate], ngram_size, 200)\n",
    "print(new_lyrics)"
   ]
  },
  {
   "cell_type": "code",
   "execution_count": 6,
   "metadata": {},
   "outputs": [],
   "source": [
    "df['word_count'] = df['lyrics'].apply(lambda x: len(x.split()))\n",
    "genre_stats = df.groupby('genre')['word_count'].agg(['mean', 'std'])"
   ]
  },
  {
   "cell_type": "code",
   "execution_count": 12,
   "metadata": {},
   "outputs": [],
   "source": [
    "num_lyrics_per_genre = 1000\n",
    "lyrics_data = []\n",
    "\n",
    "for genre, model in genre_models.items():\n",
    "    mean_word_count = genre_stats.loc[genre, 'mean']\n",
    "    std_word_count = genre_stats.loc[genre, 'std']\n",
    "    for _ in range(num_lyrics_per_genre):\n",
    "        num_words = max(int(np.random.normal(mean_word_count, std_word_count)), 1) \n",
    "        lyrics = generate_lyrics(model, ngram_size)\n",
    "        lyrics_data.append({'genre': genre, 'lyrics': lyrics, 'artist': f'n-gram {ngram_size}'})\n",
    "\n",
    "\n",
    "lyrics_df = pd.DataFrame(lyrics_data)\n",
    "lyrics_df.to_csv('generated_lyrics.csv', index=False)"
   ]
  }
 ],
 "metadata": {
  "kernelspec": {
   "display_name": "lectures",
   "language": "python",
   "name": "python3"
  },
  "language_info": {
   "codemirror_mode": {
    "name": "ipython",
    "version": 3
   },
   "file_extension": ".py",
   "mimetype": "text/x-python",
   "name": "python",
   "nbconvert_exporter": "python",
   "pygments_lexer": "ipython3",
   "version": "3.11.4"
  },
  "orig_nbformat": 4,
  "vscode": {
   "interpreter": {
    "hash": "258d6f942e9abff99338ee3ea05bb7abc0fd3eb4d49f988f84979247168b5568"
   }
  }
 },
 "nbformat": 4,
 "nbformat_minor": 2
}
